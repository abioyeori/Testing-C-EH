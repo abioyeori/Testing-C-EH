{
 "cells": [
  {
   "cell_type": "code",
   "execution_count": 2,
   "id": "8da33760-579a-4ec6-9a6c-c5724ff1c587",
   "metadata": {},
   "outputs": [
    {
     "data": {
      "text/plain": [
       "np.int64(9)"
      ]
     },
     "execution_count": 2,
     "metadata": {},
     "output_type": "execute_result"
    }
   ],
   "source": [
    "import numpy\n",
    "\n",
    "egg_prices = [5, 8, 7, 9, 9, 6]\n",
    "\n",
    "numpy.mean(egg_prices)\n",
    "\n",
    "numpy.max(egg_prices)"
   ]
  }
 ],
 "metadata": {
  "kernelspec": {
   "display_name": "Python [conda env:base] *",
   "language": "python",
   "name": "conda-base-py"
  },
  "language_info": {
   "codemirror_mode": {
    "name": "ipython",
    "version": 3
   },
   "file_extension": ".py",
   "mimetype": "text/x-python",
   "name": "python",
   "nbconvert_exporter": "python",
   "pygments_lexer": "ipython3",
   "version": "3.13.5"
  }
 },
 "nbformat": 4,
 "nbformat_minor": 5
}
